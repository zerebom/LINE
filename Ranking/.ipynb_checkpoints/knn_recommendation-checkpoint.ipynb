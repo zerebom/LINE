{
 "cells": [
  {
   "cell_type": "code",
   "execution_count": 2,
   "metadata": {},
   "outputs": [
    {
     "name": "stdout",
     "output_type": "stream",
     "text": [
      "WARNING: pip is being invoked by an old script wrapper. This will fail in a future version of pip.\n",
      "Please see https://github.com/pypa/pip/issues/5599 for advice on fixing the underlying issue.\n",
      "To avoid this problem you can invoke Python with '-m pip' instead of running pip directly.\n",
      "Requirement already satisfied: matplotlib-venn in /opt/conda/lib/python3.7/site-packages (0.11.5)\n",
      "Requirement already satisfied: scipy in /opt/conda/lib/python3.7/site-packages (from matplotlib-venn) (1.4.1)\n",
      "Requirement already satisfied: matplotlib in /opt/conda/lib/python3.7/site-packages (from matplotlib-venn) (3.1.2)\n",
      "Requirement already satisfied: numpy in /opt/conda/lib/python3.7/site-packages (from matplotlib-venn) (1.17.5)\n",
      "Requirement already satisfied: cycler>=0.10 in /opt/conda/lib/python3.7/site-packages (from matplotlib->matplotlib-venn) (0.10.0)\n",
      "Requirement already satisfied: kiwisolver>=1.0.1 in /opt/conda/lib/python3.7/site-packages (from matplotlib->matplotlib-venn) (1.1.0)\n",
      "Requirement already satisfied: python-dateutil>=2.1 in /opt/conda/lib/python3.7/site-packages (from matplotlib->matplotlib-venn) (2.8.1)\n",
      "Requirement already satisfied: pyparsing!=2.0.4,!=2.1.2,!=2.1.6,>=2.0.1 in /opt/conda/lib/python3.7/site-packages (from matplotlib->matplotlib-venn) (2.4.6)\n",
      "Requirement already satisfied: six in /opt/conda/lib/python3.7/site-packages (from cycler>=0.10->matplotlib->matplotlib-venn) (1.14.0)\n",
      "Requirement already satisfied: setuptools in /opt/conda/lib/python3.7/site-packages (from kiwisolver>=1.0.1->matplotlib->matplotlib-venn) (45.1.0.post20200119)\n"
     ]
    }
   ],
   "source": [
    "from time import time\n",
    "import matplotlib.pyplot as plt\n",
    "import numpy as np\n",
    "import pandas as pd\n",
    "import seaborn as sns\n",
    "from pandas.api.types import CategoricalDtype\n",
    "from scipy.sparse import csr_matrix\n",
    "from sklearn.metrics.pairwise import cosine_similarity\n",
    "from tqdm import tqdm_notebook as tqdm\n",
    "\n",
    "from matplotlib_venn import venn2\n",
    "from pyspark.ml.recommendation import ALS\n",
    "plt.rcParams[\"font.size\"] = 18\n",
    "\n",
    "get_ipython().system('pip install matplotlib-venn')\n",
    "\n"
   ]
  },
  {
   "cell_type": "code",
   "execution_count": 3,
   "metadata": {},
   "outputs": [],
   "source": [
    "train_df = pd.read_csv('http://files.grouplens.org/datasets/movielens/ml-100k/ua.base',\n",
    "                       names=[\"user_id\", \"item_id\", \"rating\", \"timestamp\"], sep=\"\\t\")\n",
    "\n",
    "test_df = pd.read_csv('http://files.grouplens.org/datasets/movielens/ml-100k/ua.test',\n",
    "                      names=[\"user_id\", \"item_id\", \"rating\", \"timestamp\"], sep=\"\\t\")"
   ]
  },
  {
   "cell_type": "code",
   "execution_count": 28,
   "metadata": {},
   "outputs": [],
   "source": [
    "def compare(a, b):\n",
    "    return len(set(a) & set(b))\n",
    "\n",
    "rou=lambda x:round(x,3)\n"
   ]
  },
  {
   "cell_type": "code",
   "execution_count": 5,
   "metadata": {},
   "outputs": [],
   "source": [
    "item_col = 'item_id'\n",
    "user_col = 'user_id'\n",
    "rating_col = 'rating'\n",
    "df = train_df.copy()\n",
    "\n",
    "thing_c = CategoricalDtype(\n",
    "    sorted(df[item_col].unique()), ordered=True)\n",
    "person_c = CategoricalDtype(\n",
    "    sorted(df[user_col].unique()), ordered=True)\n",
    "\n",
    "row = df[item_col].astype(thing_c).cat.codes\n",
    "col = df[user_col].astype(person_c).cat.codes\n",
    "\n",
    "matrix = csr_matrix((df[rating_col], (row, col)),\n",
    "                    shape=(thing_c.categories.size, person_c.categories.size))\n",
    "\n",
    "items = sorted(df[item_col].unique())\n",
    "uids = sorted(df[user_col].unique())"
   ]
  },
  {
   "cell_type": "markdown",
   "metadata": {},
   "source": [
    "### user_knn"
   ]
  },
  {
   "cell_type": "code",
   "execution_count": 7,
   "metadata": {},
   "outputs": [
    {
     "name": "stderr",
     "output_type": "stream",
     "text": [
      "/opt/conda/lib/python3.7/site-packages/ipykernel_launcher.py:7: TqdmDeprecationWarning: This function will be removed in tqdm==5.0.0\n",
      "Please use `tqdm.notebook.tqdm` instead of `tqdm.tqdm_notebook`\n",
      "  import sys\n"
     ]
    },
    {
     "data": {
      "application/vnd.jupyter.widget-view+json": {
       "model_id": "6fce66b446de49569f2c38fb802cbd20",
       "version_major": 2,
       "version_minor": 0
      },
      "text/plain": [
       "HBox(children=(FloatProgress(value=0.0, max=943.0), HTML(value='')))"
      ]
     },
     "metadata": {},
     "output_type": "display_data"
    },
    {
     "name": "stdout",
     "output_type": "stream",
     "text": [
      "\n"
     ]
    },
    {
     "data": {
      "text/plain": [
       "array([[474, 483, 265, ..., 655, 405, 357],\n",
       "       [515, 248, 750, ..., 181, 126, 591],\n",
       "       [313, 286, 331, ..., 315, 750, 751],\n",
       "       ...,\n",
       "       [100,  50, 258, ..., 475, 293, 591],\n",
       "       [ 22, 526,  64, ..., 527,  28, 483],\n",
       "       [ 95, 156,   7, ..., 144, 357,  71]])"
      ]
     },
     "execution_count": 7,
     "metadata": {},
     "output_type": "execute_result"
    }
   ],
   "source": [
    "rated_arr = matrix.copy()\n",
    "rated_arr[rated_arr != 0] = 1\n",
    "rated_arr = np.abs(rated_arr.toarray() - 1)\n",
    "\n",
    "\n",
    "user_knn_pred = []\n",
    "for uid in tqdm(range(matrix.shape[1])):\n",
    "    # user*user similarity matrix\n",
    "    user_sim_mat = cosine_similarity(matrix.T, dense_output=False)\n",
    "\n",
    "    most_sim_user = user_sim_mat[uid].toarray().argsort()[0][::-1][1:6]\n",
    "    most_sim_val = user_sim_mat[uid, most_sim_user].toarray()\n",
    "\n",
    "    # sum(similarity*score)\n",
    "    harmonic_ave_score = matrix[:, most_sim_user].multiply(most_sim_val).sum(axis=1)\n",
    "\n",
    "    # get idx & fix 1-index\n",
    "    pred = np.argsort(np.ravel(harmonic_ave_score) * rated_arr[:, uid])[::-1][:10] + 1\n",
    "    user_knn_pred.append(pred)\n",
    "\n",
    "user_knn_pred = np.array([i for i in user_knn_pred])\n",
    "\n",
    "user_knn_pred"
   ]
  },
  {
   "cell_type": "code",
   "execution_count": 8,
   "metadata": {},
   "outputs": [
    {
     "name": "stdout",
     "output_type": "stream",
     "text": [
      "0.0 1.8865323435843053\n"
     ]
    }
   ],
   "source": [
    "print(np.mean([compare(sorted(train_df[train_df['user_id'] == i + 1]['item_id'].values), user_knn_pred[i])\n",
    "         for i in range(len(user_knn_pred))]),\n",
    "np.mean([compare(sorted(test_df[test_df['user_id'] == i + 1]['item_id'].values), user_knn_pred[i])\n",
    "         for i in range(len(user_knn_pred))]))"
   ]
  },
  {
   "cell_type": "markdown",
   "metadata": {},
   "source": [
    "### Item_knn"
   ]
  },
  {
   "cell_type": "code",
   "execution_count": 9,
   "metadata": {},
   "outputs": [
    {
     "name": "stderr",
     "output_type": "stream",
     "text": [
      "/opt/conda/lib/python3.7/site-packages/ipykernel_launcher.py:8: TqdmDeprecationWarning: This function will be removed in tqdm==5.0.0\n",
      "Please use `tqdm.notebook.tqdm` instead of `tqdm.tqdm_notebook`\n",
      "  \n"
     ]
    },
    {
     "data": {
      "application/vnd.jupyter.widget-view+json": {
       "model_id": "9b5a4fc4af2a4f0a9fc3a76cb7b842c6",
       "version_major": 2,
       "version_minor": 0
      },
      "text/plain": [
       "HBox(children=(FloatProgress(value=0.0, max=943.0), HTML(value='')))"
      ]
     },
     "metadata": {},
     "output_type": "display_data"
    },
    {
     "name": "stdout",
     "output_type": "stream",
     "text": [
      "\n"
     ]
    }
   ],
   "source": [
    "rated_arr = matrix.copy()\n",
    "rated_arr[rated_arr != 0] = 1\n",
    "rated_arr = np.abs(rated_arr.toarray() - 1)\n",
    "\n",
    "sim_arr = cosine_similarity(matrix, dense_output=False)\n",
    "\n",
    "item_knn_pred = []\n",
    "for uid in tqdm(range(matrix.shape[1])):\n",
    "    # ユーザが評価したアイテムのrating\n",
    "    user_rating_vec = matrix[:, uid].T\n",
    "\n",
    "    # simirality*rating\n",
    "    pred_rating_vec = sim_arr.multiply(user_rating_vec)\n",
    "\n",
    "    # delete rated items\n",
    "    pred_user_item = np.ravel(pred_rating_vec.sum(axis=1)) * rated_arr[:, uid]\n",
    "\n",
    "    # get idx & fix 1-index\n",
    "    pred = np.argsort(pred_user_item)[::-1][:10] + 1\n",
    "\n",
    "    item_knn_pred.append(pred)\n",
    "\n",
    "item_knn_pred = np.array([i for i in item_knn_pred])"
   ]
  },
  {
   "cell_type": "code",
   "execution_count": 10,
   "metadata": {},
   "outputs": [
    {
     "name": "stdout",
     "output_type": "stream",
     "text": [
      "0.0 1.9957582184517497\n"
     ]
    }
   ],
   "source": [
    "print(np.mean([compare(sorted(train_df[train_df['user_id'] == i + 1]['item_id'].values), item_knn_pred[i])\n",
    "         for i in range(len(item_knn_pred))]),\n",
    "np.mean([compare(sorted(test_df[test_df['user_id'] == i + 1]['item_id'].values), item_knn_pred[i])\n",
    "         for i in range(len(item_knn_pred))]))"
   ]
  },
  {
   "cell_type": "markdown",
   "metadata": {},
   "source": [
    "### eda\n"
   ]
  },
  {
   "cell_type": "code",
   "execution_count": 11,
   "metadata": {},
   "outputs": [],
   "source": [
    "ans_arr = np.array([list(test_df[test_df['user_id'] == i + 1]['item_id'].values) for i in range(len(item_knn_pred))])\n",
    "\n"
   ]
  },
  {
   "cell_type": "markdown",
   "metadata": {},
   "source": [
    "### mrr"
   ]
  },
  {
   "cell_type": "code",
   "execution_count": 30,
   "metadata": {},
   "outputs": [],
   "source": [
    "def calc_mrr(rank_list):\n",
    "    mrr_list=[]\n",
    "    for mrr in rank_list:\n",
    "        if mrr !=-1:\n",
    "            mrr_list.append(1/mrr)\n",
    "        else:\n",
    "            mrr_list.append(0)\n",
    "    return(np.mean(mrr_list))"
   ]
  },
  {
   "cell_type": "code",
   "execution_count": 31,
   "metadata": {},
   "outputs": [
    {
     "data": {
      "image/png": "[encoded data removed]",
      "text/plain": [
       "<Figure size 432x288 with 1 Axes>"
      ]
     },
     "metadata": {
      "needs_background": "light"
     },
     "output_type": "display_data"
    },
    {
     "data": {
      "image/png": "[encoded data removed]",
      "text/plain": [
       "<Figure size 432x288 with 1 Axes>"
      ]
     },
     "metadata": {
      "needs_background": "light"
     },
     "output_type": "display_data"
    }
   ],
   "source": [
    "preds = [item_knn_pred, user_knn_pred]\n",
    "\n",
    "for pred in preds:\n",
    "    rank_list = []\n",
    "    for i in range(len(pred)):\n",
    "        if sum(np.isin(ans_arr[i], pred[i])) != 0:\n",
    "            rank_list.append(np.nonzero(np.isin(ans_arr[i], pred[i]))[0][0] + 1)\n",
    "        else:\n",
    "            rank_list.append(-1)\n",
    "    plt.hist(rank_list, bins=11)    \n",
    "    plt.xticks(np.arange(-1, 10))\n",
    "    plt.title(f'MRR:{rou(calc_mrr(rank_list))}')\n",
    "\n",
    "    plt.show()"
   ]
  },
  {
   "cell_type": "markdown",
   "metadata": {},
   "source": [
    "### coverage"
   ]
  },
  {
   "cell_type": "code",
   "execution_count": 14,
   "metadata": {},
   "outputs": [
    {
     "data": {
      "image/png": "[encoded data removed]",
      "text/plain": [
       "<Figure size 432x288 with 1 Axes>"
      ]
     },
     "metadata": {},
     "output_type": "display_data"
    }
   ],
   "source": [
    "user = set(np.ravel(user_knn_pred))\n",
    "item = set(np.ravel(item_knn_pred))\n",
    "both = len(user & item)\n",
    "user = len(user)\n",
    "item = len(item)\n",
    "\n",
    "\n",
    "venn2(subsets=(user - both, item - both, both), set_labels=('user_knn', 'item_knn'))\n",
    "plt.show()"
   ]
  },
  {
   "cell_type": "markdown",
   "metadata": {},
   "source": [
    "### hit_ratio"
   ]
  },
  {
   "cell_type": "code",
   "execution_count": 15,
   "metadata": {},
   "outputs": [
    {
     "data": {
      "image/png": "[encoded data removed]",
      "text/plain": [
       "<Figure size 432x288 with 1 Axes>"
      ]
     },
     "metadata": {},
     "output_type": "display_data"
    }
   ],
   "source": [
    "\n",
    "\n",
    "hit_item_knn = [list(set(ans_arr[i]) & set(item_knn_pred[i])) for i in range(len(item_knn_pred))]\n",
    "hit_user_knn = [list(set(ans_arr[i]) & set(user_knn_pred[i])) for i in range(len(user_knn_pred))]\n",
    "\n",
    "\n",
    "def flatten(_list):\n",
    "    new_list = []\n",
    "    for val in _list:\n",
    "        new_list.extend(val)\n",
    "    return np.unique(new_list)\n",
    "\n",
    "\n",
    "hit_item_knn = flatten(hit_item_knn)\n",
    "hit_user_knn = flatten(hit_user_knn)\n",
    "\n",
    "user = set(np.ravel(hit_user_knn))\n",
    "item = set(np.ravel(hit_item_knn))\n",
    "both = len(user & item)\n",
    "user = len(user)\n",
    "item = len(item)\n",
    "\n",
    "\n",
    "venn2(subsets=(user - both, item - both, both), set_labels=('user_knn', 'item_knn'))\n",
    "plt.show()\n",
    "\n",
    "\n"
   ]
  },
  {
   "cell_type": "markdown",
   "metadata": {},
   "source": [
    "### ndcg"
   ]
  },
  {
   "cell_type": "code",
   "execution_count": 16,
   "metadata": {},
   "outputs": [],
   "source": [
    "\n",
    "\n",
    "def dcg_at_k(r, k, method=0):\n",
    "    \"\"\"Score is discounted cumulative gain (dcg)\n",
    "    Relevance is positive real values.  Can use binary\n",
    "    as the previous methods.\n",
    "    Example from\n",
    "    http://www.stanford.edu/class/cs276/handouts/EvaluationNew-handout-6-per.pdf\n",
    "\n",
    "    Args:\n",
    "        r: Relevance scores (list or numpy) in rank order\n",
    "            (first element is the first item)\n",
    "        k: Number of results to consider\n",
    "        method: If 0 then weights are [1.0, 1.0, 0.6309, 0.5, 0.4307, ...]\n",
    "                If 1 then weights are [1.0, 0.6309, 0.5, 0.4307, ...]\n",
    "    Returns:\n",
    "        Discounted cumulative gain\n",
    "    \"\"\"\n",
    "    r = np.asfarray(r)[:k]\n",
    "    if r.size:\n",
    "        if method == 0:\n",
    "            return r[0] + np.sum(r[1:] / np.log2(np.arange(2, r.size + 1)))\n",
    "        elif method == 1:\n",
    "            return np.sum(r / np.log2(np.arange(2, r.size + 2)))\n",
    "        else:\n",
    "            raise ValueError('method must be 0 or 1.')\n",
    "    return 0.\n",
    "\n",
    "\n",
    "def ndcg_at_k(r, k, method=0):\n",
    "    \"\"\"Score is normalized discounted cumulative gain (ndcg)\n",
    "    Relevance is positive real values.  Can use binary\n",
    "    as the previous methods.\n",
    "    Example from\n",
    "    http://www.stanford.edu/class/cs276/handouts/EvaluationNew-handout-6-per.pdf\n",
    "\n",
    "    Args:\n",
    "        r: Relevance scores (list or numpy) in rank order\n",
    "            (first element is the first item)\n",
    "        k: Number of results to consider\n",
    "        method: If 0 then weights are [1.0, 1.0, 0.6309, 0.5, 0.4307, ...]\n",
    "                If 1 then weights are [1.0, 0.6309, 0.5, 0.4307, ...]\n",
    "    Returns:\n",
    "        Normalized discounted cumulative gain\n",
    "    \"\"\"\n",
    "    dcg_max = dcg_at_k(sorted(r, reverse=True), k, method)\n",
    "    if not dcg_max:\n",
    "        return 0.\n",
    "    return dcg_at_k(r, k, method) / dcg_max\n",
    "\n"
   ]
  },
  {
   "cell_type": "code",
   "execution_count": 17,
   "metadata": {},
   "outputs": [],
   "source": [
    "# user_id,item_id両方をkeyとしてratingを取得した\n",
    "ndcg_df = test_df.copy()\n",
    "\n",
    "\n",
    "def zfill(x):\n",
    "    return str(x).zfill(4)\n",
    "\n",
    "\n",
    "ndcg_df['con_id'] = ndcg_df['user_id'].apply(zfill) + ndcg_df['item_id'].apply(zfill)\n",
    "ratings = ndcg_df[['rating', 'con_id']].set_index('con_id').to_dict()['rating']\n",
    "\n"
   ]
  },
  {
   "cell_type": "code",
   "execution_count": 18,
   "metadata": {},
   "outputs": [],
   "source": [
    "def calc_ndcg(preds, ratings, rank=10):\n",
    "    encodes, ndcgs = [], []\n",
    "    for i in range(len(preds)):\n",
    "        for j in range(10):\n",
    "            encodes.append(zfill(i + 1) + zfill(preds[i, j]))\n",
    "    for encode in encodes:\n",
    "        if encode in ratings:\n",
    "            ndcgs.append(ratings[encode])\n",
    "        else:\n",
    "            ndcgs.append(0)\n",
    "    return np.array(ndcgs).reshape(-1, rank)\n",
    "\n",
    "\n",
    "item_rank = calc_ndcg(item_knn_pred, ratings)\n",
    "user_rank = calc_ndcg(user_knn_pred, ratings)\n",
    "\n"
   ]
  },
  {
   "cell_type": "code",
   "execution_count": 27,
   "metadata": {},
   "outputs": [
    {
     "name": "stdout",
     "output_type": "stream",
     "text": [
      "0.5954506734452159\n",
      "0.5494618027932383\n"
     ]
    }
   ],
   "source": [
    "print(np.mean([ndcg_at_k(rating, 10) for rating in item_rank]))\n",
    "print(np.mean([ndcg_at_k(rating, 10) for rating in user_rank]))"
   ]
  },
  {
   "cell_type": "markdown",
   "metadata": {},
   "source": [
    "### gini"
   ]
  },
  {
   "cell_type": "code",
   "execution_count": 20,
   "metadata": {},
   "outputs": [],
   "source": [
    "\n",
    "\n",
    "def gini(array):\n",
    "    \"\"\"Calculate the Gini coefficient of a numpy array.\"\"\"\n",
    "    # based on bottom eq: http://www.statsdirect.com/help/content/image/stat0206_wmf.gif\n",
    "    # from: http://www.statsdirect.com/help/default.htm#nonparametric_methods/gini.htm\n",
    "    array = array.flatten()  # all values are treated equally, arrays must be 1d\n",
    "    if np.amin(array) < 0:\n",
    "        array -= np.amin(array)  # values cannot be negative\n",
    "    array += 0.0000001  # values cannot be 0\n",
    "    array = np.sort(array)  # values must be sorted\n",
    "    index = np.arange(1, array.shape[0] + 1)  # index per array element\n",
    "    n = array.shape[0]  # number of array elements\n",
    "    return ((np.sum((2 * index - n - 1) * array)) / (n * np.sum(array)))  # Gini coefficient\n",
    "\n"
   ]
  },
  {
   "cell_type": "code",
   "execution_count": 21,
   "metadata": {},
   "outputs": [],
   "source": [
    "item_candidates = test_df['item_id'].nunique()"
   ]
  },
  {
   "cell_type": "code",
   "execution_count": 22,
   "metadata": {},
   "outputs": [
    {
     "data": {
      "image/png": "[encoded data removed]",
      "text/plain": [
       "<Figure size 576x288 with 1 Axes>"
      ]
     },
     "metadata": {
      "needs_background": "light"
     },
     "output_type": "display_data"
    }
   ],
   "source": [
    "fig = plt.figure(figsize=(8, 4))\n",
    "ax = fig.add_subplot(1, 1, 1)\n",
    "preds = {'item_pred': item_knn_pred, 'user_knn': user_knn_pred}\n",
    "ginis = []\n",
    "for i, (name, pred) in enumerate(preds.items()):\n",
    "    _, item_counts = np.unique(np.ravel(pred), return_counts=True)\n",
    "    pad = np.zeros(item_candidates - len(item_counts))\n",
    "    item_counts = np.append(pad, item_counts)\n",
    "    stand_gini = np.cumsum(np.sort(item_counts)) / sum(item_counts)\n",
    "    ginis.append(round(gini(stand_gini), 3))\n",
    "\n",
    "    x = np.linspace(0, 1, item_candidates)\n",
    "    ax.plot(x, stand_gini, label=name)\n",
    "\n",
    "\n",
    "ax.plot(x, x, label='equal distribution')\n",
    "ax.legend(loc=2)\n",
    "ax.set_title(f'gini = item:{ginis[0]} user:{ginis[1]}')\n",
    "fig.show()\n",
    "\n"
   ]
  },
  {
   "cell_type": "code",
   "execution_count": null,
   "metadata": {},
   "outputs": [],
   "source": []
  }
 ],
 "metadata": {
  "file_extension": ".py",
  "kernelspec": {
   "display_name": "Python 3",
   "language": "python",
   "name": "python3"
  },
  "language_info": {
   "codemirror_mode": {
    "name": "ipython",
    "version": 3
   },
   "file_extension": ".py",
   "mimetype": "text/x-python",
   "name": "python",
   "nbconvert_exporter": "python",
   "pygments_lexer": "ipython3",
   "version": "3.7.4"
  },
  "mimetype": "text/x-python",
  "name": "python",
  "npconvert_exporter": "python",
  "pygments_lexer": "ipython3",
  "version": 3
 },
 "nbformat": 4,
 "nbformat_minor": 2
}

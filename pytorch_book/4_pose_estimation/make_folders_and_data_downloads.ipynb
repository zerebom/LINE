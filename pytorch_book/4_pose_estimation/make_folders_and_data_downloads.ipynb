{
 "cells": [
  {
   "cell_type": "markdown",
   "metadata": {},
   "source": [
    "##  第4章 姿勢推定の準備ファイル\n",
    "\n",
    "- 本ファイルでは、第4章で使用するフォルダの作成とファイルのダウンロードを行います。"
   ]
  },
  {
   "cell_type": "code",
   "execution_count": 1,
   "metadata": {},
   "outputs": [],
   "source": [
    "import os\n",
    "import urllib.request\n",
    "import zipfile\n",
    "import tarfile"
   ]
  },
  {
   "cell_type": "code",
   "execution_count": 2,
   "metadata": {},
   "outputs": [],
   "source": [
    "# フォルダ「data」が存在しない場合は作成する\n",
    "data_dir = \"./data/\"\n",
    "if not os.path.exists(data_dir):\n",
    "    os.mkdir(data_dir)"
   ]
  },
  {
   "cell_type": "code",
   "execution_count": 3,
   "metadata": {},
   "outputs": [],
   "source": [
    "# フォルダ「weights」が存在しない場合は作成する\n",
    "weights_dir = \"./weights/\"\n",
    "if not os.path.exists(weights_dir):\n",
    "    os.mkdir(weights_dir)"
   ]
  },
  {
   "cell_type": "code",
   "execution_count": 4,
   "metadata": {},
   "outputs": [],
   "source": [
    "# MSCOCOの2014 Val images [41K/6GB]をダウンロード\n",
    "# 6GBのダウンロードと解凍なので時間がかかります（10分弱）\n",
    "url =  \"http://images.cocodataset.org/zips/val2014.zip\"\n",
    "target_path = os.path.join(data_dir, \"val2014.zip\") \n",
    "\n",
    "if not os.path.exists(target_path):\n",
    "    urllib.request.urlretrieve(url, target_path)\n",
    "    \n",
    "    zip = zipfile.ZipFile(target_path)\n",
    "    zip.extractall(data_dir)  # ZIPを解凍\n",
    "    zip.close()  # ZIPファイルをクローズ\n",
    "    \n"
   ]
  },
  {
   "cell_type": "markdown",
   "metadata": {},
   "source": [
    "## tensorboyさんのGitHubから必要なデータを手動ダウンロード\n",
    "\n",
    "tensorboyさんがCOCODatasetから使用しやすいように、加工したデータを使用します\n",
    "\n",
    "https://github.com/tensorboy/pytorch_Realtime_Multi-Person_Pose_Estimation\n",
    "\n",
    "Released under the MIT license"
   ]
  },
  {
   "cell_type": "code",
   "execution_count": null,
   "metadata": {},
   "outputs": [],
   "source": [
    "# 画像データのアノテーションデータを整理したファイル「COCO.json」をダウンロードします。\n",
    "\n",
    "フォルダ「data」に以下のデータを配置\n",
    "アノテーションデータ「COCO.json」\n",
    "\n",
    "https://www.dropbox.com/s/0sj2q24hipiiq5t/COCO.json?dl=0"
   ]
  },
  {
   "cell_type": "code",
   "execution_count": null,
   "metadata": {},
   "outputs": [],
   "source": [
    "# 画像中でアノテーション（人の関節位置の情報）がない人の部分をマスクするデータを用意します。\n",
    "\n",
    "フォルダ「data」に以下のデータ「mask.tar.gz」を配置\n",
    "マスクデータ「mask.tar.gz」\n",
    "\n",
    "https://www.dropbox.com/s/bd9ty7b4fqd5ebf/mask.tar.gz?dl=0"
   ]
  },
  {
   "cell_type": "markdown",
   "metadata": {},
   "source": [
    "## mask.tar.gzを以下で解凍します"
   ]
  },
  {
   "cell_type": "code",
   "execution_count": 5,
   "metadata": {},
   "outputs": [],
   "source": [
    "# mask.tar.gzの解凍\n",
    "save_path = os.path.join(data_dir, \"mask.tar.gz\") \n",
    "\n",
    "with tarfile.open(save_path, 'r:*') as tar:\n",
    "    tar.extractall(data_dir)\n"
   ]
  },
  {
   "cell_type": "markdown",
   "metadata": {},
   "source": [
    "# 学習済みモデルのダウンロード"
   ]
  },
  {
   "cell_type": "code",
   "execution_count": null,
   "metadata": {},
   "outputs": [],
   "source": [
    "# tensorboyさんによる、学習済みのOpenPoseモデル「pspnet50_30.pth」を用意します。\n",
    "\n",
    "フォルダ「weights」に以下の「pose_model_scratch.pth」を配置\n",
    "学習済みモデル「pose_model_scratch.pth」\n",
    "\n",
    "https://www.dropbox.com/s/5v654d2u65fuvyr/pose_model_scratch.pth?dl=0\n",
    "    \n"
   ]
  },
  {
   "cell_type": "code",
   "execution_count": null,
   "metadata": {},
   "outputs": [],
   "source": [
    "【※（実施済み）】\n",
    "草野球の画像を手動でダウンロード\n",
    "\n",
    "https://pixabay.com/ja/photos/%E3%83%92%E3%83%83%E3%83%88-%E3%82%AD%E3%83%A3%E3%83%83%E3%83%81%E3%83%A3%E3%83%BC-%E9%87%8E%E7%90%83-1407826/\n",
    "\n",
    "の640×426サイズの画像\n",
    "（画像権利情報：商用利用無料、帰属表示は必要ありません）\n",
    "\n",
    "を、フォルダ「data」の直下に置く。\n",
    "\n"
   ]
  },
  {
   "cell_type": "markdown",
   "metadata": {},
   "source": [
    "以上"
   ]
  }
 ],
 "metadata": {
  "kernelspec": {
   "display_name": "Python 3",
   "language": "python",
   "name": "python3"
  },
  "language_info": {
   "codemirror_mode": {
    "name": "ipython",
    "version": 3
   },
   "file_extension": ".py",
   "mimetype": "text/x-python",
   "name": "python",
   "nbconvert_exporter": "python",
   "pygments_lexer": "ipython3",
   "version": "3.6.5"
  }
 },
 "nbformat": 4,
 "nbformat_minor": 2
}

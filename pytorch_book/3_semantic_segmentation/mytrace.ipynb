{
 "cells": [
  {
   "cell_type": "code",
   "execution_count": 2,
   "metadata": {},
   "outputs": [
    {
     "name": "stdout",
     "output_type": "stream",
     "text": "Collecting torch\n\u001b[?25l  Downloading https://files.pythonhosted.org/packages/7e/94/0ed9f7899aa0f5e7ff753a3a2b6944c146eef3f4cd51c59ab07c4575992b/torch-1.3.1-cp37-none-macosx_10_7_x86_64.whl (71.1MB)\n\u001b[K     |████████████████████████████████| 71.1MB 1.3MB/s \n\u001b[?25hRequirement already satisfied: numpy in /usr/local/lib/python3.7/site-packages (from torch) (1.17.0)\nInstalling collected packages: torch\nSuccessfully installed torch-1.3.1\n"
    }
   ],
   "source": [
    "!pip3 install torch"
   ]
  },
  {
   "cell_type": "code",
   "execution_count": 1,
   "metadata": {},
   "outputs": [
    {
     "ename": "ModuleNotFoundError",
     "evalue": "No module named 'torch'",
     "output_type": "error",
     "traceback": [
      "\u001b[0;31m---------------------------------------------------------------------------\u001b[0m",
      "\u001b[0;31mModuleNotFoundError\u001b[0m                       Traceback (most recent call last)",
      "\u001b[0;32m<ipython-input-1-84c6fab5f56b>\u001b[0m in \u001b[0;36m<module>\u001b[0;34m\u001b[0m\n\u001b[0;32m----> 1\u001b[0;31m \u001b[0;32mimport\u001b[0m \u001b[0mtorch\u001b[0m\u001b[0;34m\u001b[0m\u001b[0;34m\u001b[0m\u001b[0m\n\u001b[0m\u001b[1;32m      2\u001b[0m \u001b[0;32mimport\u001b[0m \u001b[0mtorch\u001b[0m\u001b[0;34m.\u001b[0m\u001b[0mnn\u001b[0m \u001b[0;32mas\u001b[0m \u001b[0mnn\u001b[0m\u001b[0;34m\u001b[0m\u001b[0;34m\u001b[0m\u001b[0m\n\u001b[1;32m      3\u001b[0m \u001b[0;32mimport\u001b[0m \u001b[0mtorch\u001b[0m\u001b[0;34m.\u001b[0m\u001b[0mnn\u001b[0m\u001b[0;34m.\u001b[0m\u001b[0mfunctional\u001b[0m \u001b[0;32mas\u001b[0m \u001b[0mF\u001b[0m\u001b[0;34m\u001b[0m\u001b[0;34m\u001b[0m\u001b[0m\n",
      "\u001b[0;31mModuleNotFoundError\u001b[0m: No module named 'torch'"
     ]
    }
   ],
   "source": [
    "import torch\n",
    "import torch.nn as nn\n",
    "import torch.nn.functional as F"
   ]
  },
  {
   "cell_type": "code",
   "execution_count": null,
   "metadata": {},
   "outputs": [],
   "source": [
    "## 3.6 Decorder\n",
    "class DecodePSPFeature(nn.Module):\n",
    "    def __init__(self,height,width,n_classes):\n",
    "        super(DecodePSPFeature,self).__init__()\n",
    "        self.height=height\n",
    "        self.width=width\n",
    "\n",
    "        self.cbr=conv2DBatchNormRelu(in_channels=4096,out_channels=512,kernel_size=3,stride=1,padding=1)\n",
    "        self.dropout=nn.Dropout2d(p=0.1)\n",
    "        self.classification=nn.Conv2d(in_channels=512,out_channels=n_classes,kernel_size=1,stride=1)\n",
    "\n",
    "    def forward(self,x):\n",
    "        x=self.cbr(x)\n",
    "        x=self.dropout(x)\n",
    "        x=self.classification(x)\n",
    "        output =F.interpolate(\n",
    "            x,size=(self.height,self.width),node='bilinear',align_corners='True'\n",
    "        )\n",
    "        return output\n",
    "\n",
    "class AuxlilaryPSPlaters(nn.Module):\n",
    "    def __init__(self,in_channels,height,width,n_classes):\n",
    "        super(AuxlilaryPSPlaters,self).__init__()\n",
    "        \n",
    "        self.height=height\n",
    "        self.width=width\n",
    "        s\n",
    "\n",
    "\n",
    "    "
   ]
  }
 ],
 "metadata": {
  "kernelspec": {
   "display_name": "Python 3",
   "language": "python",
   "name": "python3"
  },
  "language_info": {
   "codemirror_mode": {
    "name": "ipython",
    "version": 3
   },
   "file_extension": ".py",
   "mimetype": "text/x-python",
   "name": "python",
   "nbconvert_exporter": "python",
   "pygments_lexer": "ipython3",
   "version": "3.7.4"
  }
 },
 "nbformat": 4,
 "nbformat_minor": 4
}
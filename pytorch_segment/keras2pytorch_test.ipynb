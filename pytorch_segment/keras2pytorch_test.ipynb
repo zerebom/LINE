{
 "cells": [
  {
   "cell_type": "code",
   "execution_count": 1,
   "metadata": {},
   "outputs": [
    {
     "name": "stdout",
     "output_type": "stream",
     "text": "hydra-core                0.11.3    \n"
    }
   ],
   "source": [
    "!pip list |grep hydra"
   ]
  },
  {
   "cell_type": "markdown",
   "metadata": {},
   "source": [
    "### kerasからplへの移行 dataloader編\n",
    "\n",
    "### 必要な機能\n",
    "\n",
    "#### make_path_list\n",
    "- dirから学習pathを取り出す\n",
    "\n",
    "#### dataset\n",
    "input:path_list\n",
    "output:data,\n",
    "- 学習pathからデータをロードして、datatransformを元に変形する\n",
    "- anotationとセットで返す。必要なら、座標もともに返す\n",
    "\n",
    "\n",
    "#### datatransform\n",
    "- 関数を何個か受け取って処理を行う。\n",
    "\n",
    "#### dataloader\n",
    "- dataset,datatransformを合体させて、バッチで返す "
   ]
  },
  {
   "cell_type": "code",
   "execution_count": null,
   "metadata": {},
   "outputs": [],
   "source": []
  },
  {
   "cell_type": "code",
   "execution_count": 5,
   "metadata": {},
   "outputs": [],
   "source": [
    "import torch\n",
    "import torch.utils.data as data\n",
    "from torchvision import transforms\n",
    "import pathlib\n",
    "import pandas as pd\n",
    "from pathlib import Path\n",
    "import numpy as np \n",
    "import sys \n",
    "import os\n",
    "import matplotlib.pyplot as plt\n",
    "\n",
    "\n"
   ]
  },
  {
   "cell_type": "markdown",
   "metadata": {},
   "source": [
    "## DataLoader"
   ]
  },
  {
   "cell_type": "code",
   "execution_count": null,
   "metadata": {},
   "outputs": [],
   "source": []
  },
  {
   "cell_type": "code",
   "execution_count": 6,
   "metadata": {},
   "outputs": [],
   "source": [
    "DATA_DIR = '/home/higuchi/ssd/kits19/data'\n",
    "train_patch = 'tumor_48x48x16'\n",
    "val_patch = 'tumor_60x60x20'\n",
    "train_ids=['001','002']\n",
    "val_ids=['001','002']\n",
    "\n",
    "class DataPathMaker():\n",
    "    '''\n",
    "    DataSetに渡すpath_listを作るためのDataFrameを作る\n",
    "    今後の展望として、統計量を持ったDFを渡してその条件でlistを変えるようにする。\n",
    "    '''\n",
    "    # TODO:文字列の除去\n",
    "    def __init__(self, data_dir, patch_dir_name='patch'):\n",
    "        self.data_dir = pathlib.Path(data_dir)\n",
    "        self.patch_dir_name = patch_dir_name\n",
    "        \n",
    "\n",
    "    def create_dataframe(self, id_list):\n",
    "        data = []\n",
    "        for patient_id in id_list:\n",
    "            # TODO: case_00の部分もyamlから渡せるようにしたほうがよい\n",
    "            patient_dir = self.data_dir / f'case_00{patient_id}' / self.patch_dir_name\n",
    "            images = sorted(patient_dir.glob('patch_image_*.npy'))\n",
    "            labels = sorted(patient_dir.glob('patch_no_onehot_*.npy'))\n",
    "            if len(images) == 1 or len(labels) == 0:\n",
    "                print(f'{patient_id} is no data')\n",
    "            for image, label in zip(images, labels):\n",
    "                data.append(['image', patient_id, image])\n",
    "                data.append(['label', patient_id, label])\n",
    "        return pd.DataFrame(data, columns=['type', 'id', 'path'])\n",
    "\n",
    "\n",
    "train_path_df = DataPathMaker(DATA_DIR, patch_dir_name=train_patch).create_dataframe(train_ids)\n",
    "val_path_df = DataPathMaker(DATA_DIR, patch_dir_name=val_patch).create_dataframe(val_ids)\n",
    "\n",
    "train_im_list = train_path_df[train_path_df['type']=='image']['path'].astype(str).values\n",
    "val_im_list = train_path_df[train_path_df['type']=='image']['path'].astype(str).values\n",
    "\n",
    "train_lb_list = train_path_df[train_path_df['type']=='label']['path'].astype(str).values\n",
    "val_lb_list = train_path_df[train_path_df['type']=='label']['path'].astype(str).values\n"
   ]
  },
  {
   "cell_type": "code",
   "execution_count": 7,
   "metadata": {},
   "outputs": [],
   "source": [
    "# パッケージのimport\n",
    "import torch\n",
    "from torchvision import transforms\n",
    "from PIL import Image, ImageOps, ImageFilter\n",
    "import numpy as np\n",
    "\n",
    "\n",
    "class Compose(object):\n",
    "    \"\"\"引数transformに格納された変形を順番に実行するクラス\n",
    "       対象画像とアノテーション画像を同時に変換させます。 \n",
    "    \"\"\"\n",
    "\n",
    "    def __init__(self, transforms):\n",
    "        self.transforms = transforms\n",
    "\n",
    "    def __call__(self, img, anno_class_img):\n",
    "        for t in self.transforms:\n",
    "            img, anno_class_img = t(img, anno_class_img)\n",
    "        return img, anno_class_img\n",
    "\n",
    "\n",
    "class Scale(object):\n",
    "    def __init__(self, scale):\n",
    "        self.scale = scale\n",
    "\n",
    "    def __call__(self, img, anno_class_img):\n",
    "\n",
    "        width = img.size[0]  # img.size=[幅][高さ]\n",
    "        height = img.size[1]  # img.size=[幅][高さ]\n",
    "\n",
    "        # 拡大倍率をランダムに設定\n",
    "        scale = np.random.uniform(self.scale[0], self.scale[1])\n",
    "\n",
    "        scaled_w = int(width * scale)  # img.size=[幅][高さ]\n",
    "        scaled_h = int(height * scale)  # img.size=[幅][高さ]\n",
    "\n",
    "        # 画像のリサイズ\n",
    "        img = img.resize((scaled_w, scaled_h), Image.BICUBIC)\n",
    "\n",
    "        # アノテーションのリサイズ\n",
    "        anno_class_img = anno_class_img.resize(\n",
    "            (scaled_w, scaled_h), Image.NEAREST)\n",
    "\n",
    "        # 画像を元の大きさに\n",
    "        # 切り出し位置を求める\n",
    "        if scale > 1.0:\n",
    "            left = scaled_w - width\n",
    "            left = int(np.random.uniform(0, left))\n",
    "\n",
    "            top = scaled_h-height\n",
    "            top = int(np.random.uniform(0, top))\n",
    "\n",
    "            img = img.crop((left, top, left+width, top+height))\n",
    "            anno_class_img = anno_class_img.crop(\n",
    "                (left, top, left+width, top+height))\n",
    "\n",
    "        else:\n",
    "            # input_sizeよりも短い辺はpaddingする\n",
    "            p_palette = anno_class_img.copy().getpalette()\n",
    "\n",
    "            img_original = img.copy()\n",
    "            anno_class_img_original = anno_class_img.copy()\n",
    "\n",
    "            pad_width = width-scaled_w\n",
    "            pad_width_left = int(np.random.uniform(0, pad_width))\n",
    "\n",
    "            pad_height = height-scaled_h\n",
    "            pad_height_top = int(np.random.uniform(0, pad_height))\n",
    "\n",
    "            img = Image.new(img.mode, (width, height), (0, 0, 0))\n",
    "            img.paste(img_original, (pad_width_left, pad_height_top))\n",
    "\n",
    "            anno_class_img = Image.new(\n",
    "                anno_class_img.mode, (width, height), (0))\n",
    "            anno_class_img.paste(anno_class_img_original,\n",
    "                                 (pad_width_left, pad_height_top))\n",
    "            anno_class_img.putpalette(p_palette)\n",
    "\n",
    "        return img, anno_class_img\n",
    "\n",
    "\n",
    "class RandomRotation(object):\n",
    "    def __init__(self, angle):\n",
    "        self.angle = angle\n",
    "\n",
    "    def __call__(self, img, anno_class_img):\n",
    "\n",
    "        # 回転角度を決める\n",
    "        rotate_angle = (np.random.uniform(self.angle[0], self.angle[1]))\n",
    "\n",
    "        # 回転\n",
    "        img = img.rotate(rotate_angle, Image.BILINEAR)\n",
    "        anno_class_img = anno_class_img.rotate(rotate_angle, Image.NEAREST)\n",
    "\n",
    "        return img, anno_class_img"
   ]
  },
  {
   "cell_type": "code",
   "execution_count": null,
   "metadata": {},
   "outputs": [],
   "source": []
  },
  {
   "cell_type": "code",
   "execution_count": 8,
   "metadata": {},
   "outputs": [
    {
     "name": "stdout",
     "output_type": "stream",
     "text": "(3, 16, 48, 48)\n"
    }
   ],
   "source": [
    "from tensorflow.keras.utils import Sequence, to_categorical\n",
    "class KitsDataSet(data.Dataset):\n",
    "    '''\n",
    "    loadした後のデータの処理のみを行う。\n",
    "    input:train,val,testのdata_list(絞り込み済み) & label_list\n",
    "    '''\n",
    "    # TODO: ラベルが重ねってる部分の処理(binaly_labels)\n",
    "    # TODO: Augment_code\n",
    "    def __init__(self, img_list, label_list, transform, phase='train'):\n",
    "        self.img_list = img_list\n",
    "        self.label_list = label_list\n",
    "        self.transform = transform\n",
    "        self.phase = phase\n",
    "    \n",
    "    def __len__(self):\n",
    "        return len(self.img_list)\n",
    "    \n",
    "    def __getitem__(self,index):\n",
    "        im = np.load(self.img_list[index])\n",
    "        lb = np.load(self.label_list[index])\n",
    "    \n",
    "        if self.transform:\n",
    "            im, lb = self.transform(im, lb, self.phase)\n",
    "\n",
    "        # B,D,C,H,Wに変換する\n",
    "        # im = im.permute(3, 2, 0, 1)\n",
    "        # im = np.transpose(im, (2, 3, 0, 1))\n",
    "        im = np.transpose(im, (3, 2, 0, 1))\n",
    "\n",
    "\n",
    "        # B,C,H,Wに変換する\n",
    "        # lb = lb.permute(2, 0, 1)\n",
    "\n",
    "        #numpy ver\n",
    "        lb = to_categorical(lb, num_classes=3)\n",
    "        # lb = np.transpose(lb, (2, 3, 0, 1))\n",
    "        lb = np.transpose(lb, (3, 2, 0, 1))\n",
    "\n",
    "        return im, lb \n",
    "\n",
    "\n",
    "\n",
    "\n",
    "tr_DS = KitsDataSet(train_im_list,train_lb_list,phase='train', transform = None)\n",
    "val_DS = KitsDataSet(val_im_list,val_lb_list,phase='val', transform = None)\n",
    "\n",
    "aa\n",
    "print(tr_DS.__getitem__(0)[1].shape)\n",
    "\n"
   ]
  },
  {
   "cell_type": "code",
   "execution_count": null,
   "metadata": {},
   "outputs": [],
   "source": []
  },
  {
   "cell_type": "code",
   "execution_count": 9,
   "metadata": {},
   "outputs": [],
   "source": [
    "aanet_shape=[8, 1, 16, 48, 48]"
   ]
  },
  {
   "cell_type": "code",
   "execution_count": 10,
   "metadata": {},
   "outputs": [
    {
     "name": "stdout",
     "output_type": "stream",
     "text": "torch.Size([8, 1, 16, 48, 48])\ntorch.Size([8, 3, 16, 48, 48])\n"
    }
   ],
   "source": [
    "batch_size = 8\n",
    "train_dl = data.DataLoader(tr_DS, batch_size = batch_size)\n",
    "val_dl = data.DataLoader(val_DS, batch_size = batch_size)\n",
    "\n",
    "dataloaders_dict = {\n",
    "    \"train\": train_dl,\n",
    "    \"val\": val_dl\n",
    "}\n",
    "\n",
    "batch_iterator = iter(dataloaders_dict[\"val\"])\n",
    "\n",
    "images, labels = next(batch_iterator)\n",
    "\n",
    "print(images.size())\n",
    "print(labels.size())"
   ]
  },
  {
   "cell_type": "code",
   "execution_count": null,
   "metadata": {},
   "outputs": [],
   "source": []
  },
  {
   "cell_type": "code",
   "execution_count": 8,
   "metadata": {},
   "outputs": [
    {
     "data": {
      "text/plain": [
       "<matplotlib.image.AxesImage at 0x7fec99d172b0>"
      ]
     },
     "execution_count": 8,
     "metadata": {},
     "output_type": "execute_result"
    },
    {
     "data": {
      "image/png": "[encoded data removed]",
      "text/plain": [
       "<Figure size 432x288 with 1 Axes>"
      ]
     },
     "metadata": {
      "needs_background": "light"
     },
     "output_type": "display_data"
    }
   ],
   "source": [
    "import torchvision\n",
    "grid = torchvision.utils.make_grid\\\n",
    "(images[:,:,1,:, :].to(torch.int16).abs())\n",
    "\n",
    "# grid = transforms.ToPILImage()(grid)grid\n",
    "\n",
    "plt.imshow(grid.permute(1,2,0).numpy())\n"
   ]
  },
  {
   "cell_type": "markdown",
   "metadata": {},
   "source": [
    "## Model"
   ]
  },
  {
   "cell_type": "code",
   "execution_count": 1,
   "metadata": {},
   "outputs": [],
   "source": [
    "import torch\n",
    "import torch.nn as nn\n",
    "import torch.nn.functional as F\n",
    "\n",
    "class double_conv(nn.Module):\n",
    "    def __init__(self, in_ch, out_ch,dropout=True,weight_init=True):\n",
    "        self.dropout=dropout\n",
    "        super(double_conv, self).__init__()\n",
    "        conv1_out=out_ch//2\n",
    "\n",
    "        if conv1_out < in_ch:\n",
    "                conv1_out = in_ch\n",
    "\n",
    "        self.dropout_layer=nn.Dropout3d(p=0.5)\n",
    "        self.conv = nn.Sequential(\n",
    "            #in,out,kernel_size,padding\n",
    "            nn.Conv3d(in_ch, conv1_out, 3, padding=1),\n",
    "            nn.BatchNorm3d(conv1_out),\n",
    "            nn.ReLU(inplace=True),\n",
    "            nn.Conv3d(conv1_out, out_ch, 3, padding=1),\n",
    "            nn.BatchNorm3d(out_ch),\n",
    "            nn.ReLU(inplace=True),\n",
    "        )\n",
    "\n",
    "        if weight_init:\n",
    "            self.conv.apply(self.init_weights)\n",
    "            \n",
    "    @staticmethod\n",
    "    def init_weights(m):\n",
    "        if type(m) == nn.Conv3d:\n",
    "            torch.nn.init.kaiming_normal_(m.weight)\n",
    "\n",
    "    def forward(self, x):\n",
    "        x = self.conv(x)\n",
    "        if self.dropout:\n",
    "            x=self.dropout_layer(x)\n",
    "        return x\n",
    "\n",
    "\n",
    "class inconv(nn.Module):\n",
    "    def __init__(self, in_ch, out_ch):\n",
    "        super(inconv, self).__init__()\n",
    "        self.conv = double_conv(in_ch, out_ch,dropout=True)\n",
    "\n",
    "    def forward(self, x):\n",
    "        x = self.conv(x)\n",
    "        return x\n",
    "\n",
    "\n",
    "\n",
    "\n",
    "class down(nn.Module):\n",
    "    def __init__(self, in_ch, out_ch):\n",
    "        super(down, self).__init__()\n",
    "        self.mpconv = nn.Sequential(\n",
    "            nn.MaxPool3d((2,2,2)),\n",
    "            double_conv(in_ch, out_ch,dropout=True)\n",
    "        )\n",
    "\n",
    "    def forward(self, x):\n",
    "        x = self.mpconv(x)\n",
    "        return x\n",
    "\n",
    "\n",
    "class up(nn.Module):\n",
    "    def __init__(self, in_ch, out_ch, bilinear=False,init_weights=True):\n",
    "        super(up, self).__init__()\n",
    "        if bilinear:\n",
    "            self.up = nn.Upsample(scale_factor=2, mode='bilinear', align_corners=True)\n",
    "        else:\n",
    "            self.up = nn.ConvTranspose3d(in_ch // 2, in_ch // 2, 2, stride=2)\n",
    "        if init_weights:\n",
    "            self.up.apply(self.init_weights)\n",
    "\n",
    "        self.conv = double_conv(int(in_ch*3/4), out_ch,dropout=False)\n",
    "    \n",
    "    @staticmethod\n",
    "    def init_weights(m):\n",
    "        if type(m) == nn.ConvTranspose3d:\n",
    "            torch.nn.init.kaiming_normal_(m.weight)\n",
    "\n",
    "    def forward(self, x1, x2):\n",
    "        x1 = self.up(x1)\n",
    "        diffZ = x1.size()[2] - x2.size()[2]\n",
    "        diffX = x1.size()[3] - x2.size()[3]\n",
    "        diffY = x1.size()[4] - x2.size()[4]\n",
    "        x2 = F.pad(x2, (diffZ // 2, int(diffZ / 2),\n",
    "                        diffX // 2, int(diffX / 2),\n",
    "                        diffY // 2, int(diffY / 2)))\n",
    "        x = torch.cat([x2, x1], dim=1)\n",
    "        x = self.conv(x)\n",
    "        return x\n",
    "\n",
    "\n",
    "\n",
    "\n",
    "class outconv(nn.Module):\n",
    "    def __init__(self, in_ch, out_ch):\n",
    "        super(outconv, self).__init__()\n",
    "        self.conv = nn.Conv3d(in_ch, out_ch, 1)\n",
    "        self.softmax = nn.Softmax()\n",
    "\n",
    "    def forward(self, x):\n",
    "        x = self.conv(x)\n",
    "        x= self.softmax(x)\n",
    "        \n",
    "        return x\n",
    "\n",
    "\n",
    "\n",
    "class UNet3D(nn.Module):\n",
    "    def __init__(self, input_shape, n_classes):\n",
    "        super(UNet3D, self).__init__()\n",
    "        self.in_ch=input_shape[1]\n",
    "        self.inc = inconv(self.in_ch, 64)\n",
    "        self.down1 = down(64, 128)\n",
    "        self.down2 = down(128, 256)\n",
    "        self.down3 = down(256, 512)\n",
    "        self.up1 = up(1024, 256)\n",
    "        self.up2 = up(512, 128)\n",
    "        self.up3 = up(256, 64)\n",
    "        self.outc = outconv(64, n_classes)\n",
    "\n",
    "    def forward(self, x):\n",
    "        x1 = self.inc(x)\n",
    "        x2 = self.down1(x1)\n",
    "        x3 = self.down2(x2)\n",
    "        x4 = self.down3(x3)\n",
    "        # x5 = self.down4(x4)\n",
    "        x = self.up1(x4, x3)\n",
    "        x = self.up2(x, x2)\n",
    "        x = self.up3(x, x1)\n",
    "        # x = self.up4(x, x1)\n",
    "        x = self.outc(x)\n",
    "        return x\n"
   ]
  },
  {
   "cell_type": "code",
   "execution_count": 13,
   "metadata": {},
   "outputs": [
    {
     "data": {
      "text/plain": "'torch.DoubleTensor'"
     },
     "execution_count": 13,
     "metadata": {},
     "output_type": "execute_result"
    }
   ],
   "source": [
    "images.type()"
   ]
  },
  {
   "cell_type": "code",
   "execution_count": null,
   "metadata": {},
   "outputs": [],
   "source": []
  },
  {
   "cell_type": "code",
   "execution_count": 14,
   "metadata": {},
   "outputs": [
    {
     "name": "stdout",
     "output_type": "stream",
     "text": "torch.cuda.FloatTensor torch.DoubleTensor\n"
    }
   ],
   "source": [
    "print(dummy_img.type(),images.type())"
   ]
  },
  {
   "cell_type": "code",
   "execution_count": 17,
   "metadata": {},
   "outputs": [
    {
     "name": "stdout",
     "output_type": "stream",
     "text": "torch.cuda.DoubleTensor\ntorch.cuda.FloatTensor\n"
    }
   ],
   "source": [
    "c_images=images.to(device)\n",
    "print(c_images.type())\n",
    "print(c_images.float().type())\n"
   ]
  },
  {
   "cell_type": "code",
   "execution_count": 11,
   "metadata": {},
   "outputs": [
    {
     "name": "stdout",
     "output_type": "stream",
     "text": "   [0.3463, 0.2841, 0.2755,  ..., 0.2333, 0.2830, 0.2267]],\n\n          [[0.2664, 0.1908, 0.2816,  ..., 0.2671, 0.2580, 0.2097],\n           [0.2415, 0.3773, 0.3173,  ..., 0.3034, 0.1938, 0.3605],\n           [0.2776, 0.3662, 0.3566,  ..., 0.2320, 0.2320, 0.2529],\n           ...,\n           [0.3107, 0.3007, 0.3591,  ..., 0.3251, 0.1959, 0.2953],\n           [0.2530, 0.3249, 0.2722,  ..., 0.3713, 0.3286, 0.2381],\n           [0.3790, 0.4134, 0.4345,  ..., 0.3224, 0.2033, 0.2436]],\n\n          [[0.2339, 0.2655, 0.2710,  ..., 0.2952, 0.1794, 0.2149],\n           [0.2679, 0.3111, 0.4698,  ..., 0.3260, 0.2305, 0.2550],\n           [0.2772, 0.2491, 0.3271,  ..., 0.2206, 0.3725, 0.2299],\n           ...,\n           [0.3040, 0.1544, 0.2446,  ..., 0.3122, 0.2453, 0.2936],\n           [0.3906, 0.2954, 0.2928,  ..., 0.3262, 0.3101, 0.3325],\n           [0.3486, 0.3458, 0.4111,  ..., 0.2645, 0.3170, 0.2702]],\n\n          ...,\n\n          [[0.1845, 0.3023, 0.2052,  ..., 0.1878, 0.2264, 0.2047],\n           [0.3614, 0.3754, 0.2450,  ..., 0.2872, 0.3254, 0.3202],\n           [0.2581, 0.2261, 0.2945,  ..., 0.1953, 0.2562, 0.2920],\n           ...,\n           [0.2118, 0.2589, 0.1768,  ..., 0.1152, 0.1835, 0.1498],\n           [0.2920, 0.3139, 0.1678,  ..., 0.2002, 0.1764, 0.2511],\n           [0.3261, 0.1839, 0.3259,  ..., 0.3676, 0.2983, 0.2358]],\n\n          [[0.3006, 0.2259, 0.2312,  ..., 0.1549, 0.3128, 0.2432],\n           [0.2717, 0.2077, 0.2020,  ..., 0.3200, 0.3918, 0.2600],\n           [0.3986, 0.4388, 0.3041,  ..., 0.2217, 0.1856, 0.2796],\n           ...,\n           [0.3985, 0.3232, 0.3045,  ..., 0.2198, 0.2199, 0.2257],\n           [0.3696, 0.2377, 0.2177,  ..., 0.1610, 0.2557, 0.3116],\n           [0.3063, 0.3306, 0.3505,  ..., 0.3798, 0.2587, 0.2624]],\n\n          [[0.2280, 0.1581, 0.1596,  ..., 0.1893, 0.2249, 0.2132],\n           [0.2825, 0.3199, 0.3259,  ..., 0.2195, 0.2359, 0.2281],\n           [0.2551, 0.2214, 0.1857,  ..., 0.2515, 0.2540, 0.2360],\n           ...,\n           [0.3124, 0.2147, 0.3413,  ..., 0.2249, 0.2938, 0.2632],\n           [0.2482, 0.1555, 0.3135,  ..., 0.2376, 0.2217, 0.2964],\n           [0.3789, 0.2754, 0.2908,  ..., 0.3379, 0.2506, 0.2194]]],\n\n\n         [[[0.4088, 0.3505, 0.4860,  ..., 0.3941, 0.5999, 0.4794],\n           [0.5328, 0.3783, 0.4996,  ..., 0.2878, 0.2538, 0.3785],\n           [0.4662, 0.3267, 0.3084,  ..., 0.4859, 0.4033, 0.2903],\n           ...,\n           [0.3107, 0.3245, 0.4175,  ..., 0.5463, 0.4640, 0.4395],\n           [0.4450, 0.3366, 0.4578,  ..., 0.3341, 0.3011, 0.4011],\n           [0.3447, 0.3324, 0.3172,  ..., 0.3490, 0.4495, 0.3844]],\n\n          [[0.3545, 0.5872, 0.4874,  ..., 0.4177, 0.3689, 0.5006],\n           [0.3950, 0.3894, 0.3427,  ..., 0.3927, 0.3816, 0.4044],\n           [0.3751, 0.2835, 0.3097,  ..., 0.3443, 0.4757, 0.4391],\n           ...,\n           [0.4245, 0.4865, 0.3760,  ..., 0.4279, 0.3678, 0.4524],\n           [0.3480, 0.3317, 0.2531,  ..., 0.3518, 0.3372, 0.4053],\n           [0.2832, 0.2811, 0.2073,  ..., 0.2378, 0.2935, 0.3727]],\n\n          [[0.4794, 0.3772, 0.3623,  ..., 0.3884, 0.3964, 0.4086],\n           [0.4053, 0.3949, 0.3223,  ..., 0.2705, 0.2717, 0.4338],\n           [0.3625, 0.4035, 0.2884,  ..., 0.3631, 0.2375, 0.4655],\n           ...,\n           [0.4733, 0.5498, 0.3198,  ..., 0.2725, 0.4284, 0.5397],\n           [0.4514, 0.3113, 0.3508,  ..., 0.2448, 0.3380, 0.4604],\n           [0.2840, 0.2406, 0.2505,  ..., 0.3908, 0.4107, 0.3386]],\n\n          ...,\n\n          [[0.4106, 0.4177, 0.4515,  ..., 0.4422, 0.5670, 0.5461],\n           [0.3701, 0.4096, 0.2124,  ..., 0.3866, 0.3353, 0.2943],\n           [0.4724, 0.4640, 0.4888,  ..., 0.5854, 0.4728, 0.4161],\n           ...,\n           [0.3607, 0.4064, 0.3221,  ..., 0.4021, 0.4921, 0.5539],\n           [0.3992, 0.3415, 0.5034,  ..., 0.3196, 0.2990, 0.4713],\n           [0.2705, 0.3511, 0.2668,  ..., 0.3087, 0.4192, 0.4335]],\n\n          [[0.3716, 0.4381, 0.3357,  ..., 0.5605, 0.4313, 0.4555],\n           [0.4473, 0.4119, 0.3745,  ..., 0.4027, 0.3499, 0.3728],\n           [0.3618, 0.2551, 0.3998,  ..., 0.4207, 0.4366, 0.4300],\n           ...,\n           [0.3272, 0.3489, 0.2780,  ..., 0.4066, 0.3337, 0.3328],\n           [0.4456, 0.3901, 0.4338,  ..., 0.3061, 0.4419, 0.3560],\n           [0.3089, 0.2906, 0.3319,  ..., 0.2540, 0.4254, 0.4319]],\n\n          [[0.3893, 0.4594, 0.4766,  ..., 0.4456, 0.3087, 0.4598],\n           [0.3871, 0.3325, 0.2952,  ..., 0.2618, 0.3508, 0.4668],\n           [0.3300, 0.3218, 0.2706,  ..., 0.3639, 0.3709, 0.4877],\n           ...,\n           [0.2932, 0.2592, 0.2984,  ..., 0.4512, 0.4342, 0.4315],\n           [0.4036, 0.4144, 0.3533,  ..., 0.3645, 0.3573, 0.4067],\n           [0.2627, 0.3745, 0.2944,  ..., 0.3364, 0.3762, 0.4761]]]],\n\n\n\n        [[[[0.3582, 0.3388, 0.3637,  ..., 0.3225, 0.3584, 0.2838],\n           [0.2710, 0.3464, 0.3251,  ..., 0.4620, 0.2678, 0.3610],\n           [0.3752, 0.2883, 0.3832,  ..., 0.3625, 0.3947, 0.2854],\n           ...,\n           [0.2823, 0.3725, 0.2439,  ..., 0.2964, 0.3106, 0.2870],\n           [0.2620, 0.3275, 0.3062,  ..., 0.3555, 0.3381, 0.2469],\n           [0.2776, 0.3103, 0.3335,  ..., 0.4118, 0.3722, 0.3703]],\n\n          [[0.3292, 0.1526, 0.3535,  ..., 0.3279, 0.3881, 0.2629],\n           [0.3703, 0.2209, 0.4064,  ..., 0.2225, 0.2339, 0.3565],\n           [0.3432, 0.3008, 0.3023,  ..., 0.3287, 0.1858, 0.2573],\n           ...,\n           [0.2779, 0.4534, 0.5471,  ..., 0.3191, 0.3718, 0.2165],\n           [0.3139, 0.4061, 0.2563,  ..., 0.3777, 0.3337, 0.2673],\n           [0.3308, 0.3102, 0.2662,  ..., 0.2553, 0.2613, 0.2426]],\n\n          [[0.2849, 0.2411, 0.3482,  ..., 0.3172, 0.2343, 0.3010],\n           [0.4400, 0.3662, 0.5662,  ..., 0.5798, 0.4863, 0.3580],\n           [0.2799, 0.3082, 0.2912,  ..., 0.2121, 0.3547, 0.3414],\n           ...,\n           [0.2999, 0.1539, 0.3026,  ..., 0.3545, 0.2941, 0.3623],\n           [0.2570, 0.5495, 0.3927,  ..., 0.2360, 0.5810, 0.3903],\n           [0.3201, 0.2410, 0.2931,  ..., 0.4644, 0.4023, 0.3280]],\n\n          ...,\n\n          [[0.3330, 0.4017, 0.3371,  ..., 0.4317, 0.2676, 0.3963],\n           [0.3964, 0.3410, 0.4319,  ..., 0.3403, 0.3053, 0.4242],\n           [0.3371, 0.3718, 0.2842,  ..., 0.3750, 0.2402, 0.2740],\n           ...,\n           [0.3190, 0.4188, 0.6365,  ..., 0.3542, 0.2385, 0.3844],\n           [0.4681, 0.2998, 0.5367,  ..., 0.3271, 0.3891, 0.2531],\n           [0.3365, 0.3435, 0.4037,  ..., 0.3432, 0.2656, 0.3174]],\n\n          [[0.2817, 0.1777, 0.4019,  ..., 0.2990, 0.3542, 0.2398],\n           [0.3439, 0.3780, 0.3926,  ..., 0.3395, 0.3842, 0.2200],\n           [0.0838, 0.3120, 0.4107,  ..., 0.2388, 0.4388, 0.2963],\n           ...,\n           [0.1580, 0.2078, 0.3058,  ..., 0.3541, 0.2943, 0.3171],\n           [0.2102, 0.2296, 0.3735,  ..., 0.2962, 0.2169, 0.3198],\n           [0.4242, 0.3107, 0.3085,  ..., 0.4200, 0.3304, 0.3159]],\n\n          [[0.2988, 0.2083, 0.2517,  ..., 0.3751, 0.3732, 0.3641],\n           [0.4072, 0.3970, 0.4599,  ..., 0.3330, 0.4643, 0.3697],\n           [0.4071, 0.3355, 0.3748,  ..., 0.2738, 0.3381, 0.2373],\n           ...,\n           [0.2490, 0.3190, 0.3006,  ..., 0.3321, 0.3057, 0.3092],\n           [0.3257, 0.2014, 0.3483,  ..., 0.3119, 0.2710, 0.3607],\n           [0.4012, 0.2837, 0.3001,  ..., 0.3762, 0.2625, 0.3187]]],\n\n\n         [[[0.2416, 0.4168, 0.2643,  ..., 0.3710, 0.2997, 0.2957],\n           [0.3412, 0.3844, 0.3750,  ..., 0.3589, 0.4381, 0.2928],\n           [0.3641, 0.4619, 0.3154,  ..., 0.2957, 0.3081, 0.3509],\n           ...,\n           [0.3999, 0.3047, 0.4264,  ..., 0.3360, 0.3870, 0.2536],\n           [0.4067, 0.4206, 0.2943,  ..., 0.3618, 0.4583, 0.3593],\n           [0.4693, 0.2907, 0.2829,  ..., 0.3317, 0.2344, 0.1503]],\n\n          [[0.2616, 0.1731, 0.2815,  ..., 0.1844, 0.2560, 0.1903],\n           [0.3766, 0.2625, 0.3301,  ..., 0.2833, 0.3606, 0.2045],\n           [0.4120, 0.1311, 0.3798,  ..., 0.2228, 0.3649, 0.1641],\n           ...,\n           [0.2941, 0.2881, 0.2238,  ..., 0.2063, 0.2798, 0.1847],\n           [0.3310, 0.1924, 0.2394,  ..., 0.2116, 0.3427, 0.2847],\n           [0.4522, 0.3840, 0.3399,  ..., 0.2470, 0.3435, 0.1828]],\n\n          [[0.3051, 0.4082, 0.3164,  ..., 0.3525, 0.2633, 0.1852],\n           [0.3434, 0.2661, 0.2219,  ..., 0.1610, 0.2444, 0.1999],\n           [0.3126, 0.2099, 0.2882,  ..., 0.2741, 0.3331, 0.1174],\n           ...,\n           [0.3216, 0.3222, 0.3249,  ..., 0.3726, 0.4521, 0.1931],\n           [0.3183, 0.2893, 0.3071,  ..., 0.4559, 0.2390, 0.2381],\n           [0.3743, 0.3721, 0.4492,  ..., 0.3221, 0.3378, 0.2202]],\n\n          ...,\n\n          [[0.2815, 0.2453, 0.1776,  ..., 0.2231, 0.2502, 0.1513],\n           [0.3037, 0.2446, 0.3438,  ..., 0.3321, 0.4356, 0.2176],\n           [0.3629, 0.3304, 0.2877,  ..., 0.2687, 0.2976, 0.2448],\n           ...,\n           [0.3858, 0.3295, 0.1811,  ..., 0.2654, 0.2518, 0.1546],\n           [0.2182, 0.3652, 0.2506,  ..., 0.3096, 0.3168, 0.2272],\n           [0.4216, 0.2518, 0.3576,  ..., 0.2647, 0.2509, 0.1719]],\n\n          [[0.2146, 0.2891, 0.2488,  ..., 0.2470, 0.2128, 0.2733],\n           [0.2498, 0.2891, 0.2222,  ..., 0.2471, 0.2341, 0.1914],\n           [0.4247, 0.3096, 0.2541,  ..., 0.2348, 0.1832, 0.1133],\n           ...,\n           [0.1926, 0.5302, 0.1676,  ..., 0.2306, 0.2366, 0.0991],\n           [0.3377, 0.2480, 0.2905,  ..., 0.1963, 0.3631, 0.1865],\n           [0.3188, 0.3467, 0.3540,  ..., 0.2685, 0.2196, 0.2258]],\n\n          [[0.2225, 0.2048, 0.2714,  ..., 0.2385, 0.2433, 0.1777],\n           [0.3300, 0.1972, 0.2407,  ..., 0.2484, 0.2623, 0.1544],\n           [0.3303, 0.1931, 0.3074,  ..., 0.2466, 0.3081, 0.1464],\n           ...,\n           [0.2859, 0.2570, 0.2259,  ..., 0.2110, 0.1571, 0.1537],\n           [0.2681, 0.2976, 0.4033,  ..., 0.2080, 0.2685, 0.2066],\n           [0.3476, 0.3346, 0.3475,  ..., 0.3121, 0.2692, 0.2115]]],\n\n\n         [[[0.4002, 0.2444, 0.3720,  ..., 0.3065, 0.3419, 0.4205],\n           [0.3878, 0.2692, 0.3000,  ..., 0.1791, 0.2941, 0.3462],\n           [0.2606, 0.2498, 0.3014,  ..., 0.3418, 0.2972, 0.3636],\n           ...,\n           [0.3178, 0.3228, 0.3297,  ..., 0.3675, 0.3024, 0.4594],\n           [0.3313, 0.2519, 0.3995,  ..., 0.2827, 0.2036, 0.3938],\n           [0.2532, 0.3990, 0.3836,  ..., 0.2565, 0.3934, 0.4794]],\n\n          [[0.4092, 0.6744, 0.3650,  ..., 0.4877, 0.3559, 0.5469],\n           [0.2531, 0.5166, 0.2635,  ..., 0.4942, 0.4054, 0.4390],\n           [0.2448, 0.5681, 0.3180,  ..., 0.4486, 0.4493, 0.5787],\n           ...,\n           [0.4280, 0.2586, 0.2291,  ..., 0.4746, 0.3484, 0.5987],\n           [0.3552, 0.4015, 0.5043,  ..., 0.4107, 0.3236, 0.4479],\n           [0.2169, 0.3058, 0.3939,  ..., 0.4977, 0.3952, 0.5746]],\n\n          [[0.4100, 0.3507, 0.3354,  ..., 0.3303, 0.5024, 0.5138],\n           [0.2167, 0.3677, 0.2119,  ..., 0.2593, 0.2693, 0.4422],\n           [0.4075, 0.4820, 0.4206,  ..., 0.5138, 0.3122, 0.5413],\n           ...,\n           [0.3785, 0.5239, 0.3725,  ..., 0.2729, 0.2538, 0.4446],\n           [0.4248, 0.1613, 0.3002,  ..., 0.3081, 0.1800, 0.3716],\n           [0.3056, 0.3869, 0.2577,  ..., 0.2135, 0.2599, 0.4518]],\n\n          ...,\n\n          [[0.3855, 0.3530, 0.4853,  ..., 0.3452, 0.4822, 0.4524],\n           [0.2999, 0.4144, 0.2243,  ..., 0.3276, 0.2591, 0.3582],\n           [0.3000, 0.2978, 0.4281,  ..., 0.3563, 0.4622, 0.4813],\n           ...,\n           [0.2953, 0.2516, 0.1824,  ..., 0.3804, 0.5097, 0.4610],\n           [0.3138, 0.3350, 0.2127,  ..., 0.3632, 0.2941, 0.5197],\n           [0.2419, 0.4046, 0.2387,  ..., 0.3921, 0.4835, 0.5107]],\n\n          [[0.5037, 0.5333, 0.3493,  ..., 0.4540, 0.4330, 0.4869],\n           [0.4063, 0.3329, 0.3852,  ..., 0.4134, 0.3817, 0.5887],\n           [0.4914, 0.3784, 0.3352,  ..., 0.5264, 0.3781, 0.5905],\n           ...,\n           [0.6494, 0.2620, 0.5266,  ..., 0.4153, 0.4691, 0.5839],\n           [0.4521, 0.5224, 0.3360,  ..., 0.5076, 0.4200, 0.4937],\n           [0.2570, 0.3426, 0.3375,  ..., 0.3115, 0.4500, 0.4583]],\n\n          [[0.4787, 0.5869, 0.4769,  ..., 0.3864, 0.3835, 0.4582],\n           [0.2628, 0.4059, 0.2994,  ..., 0.4187, 0.2733, 0.4759],\n           [0.2626, 0.4713, 0.3178,  ..., 0.4797, 0.3538, 0.6163],\n           ...,\n           [0.4651, 0.4240, 0.4735,  ..., 0.4570, 0.5372, 0.5371],\n           [0.4063, 0.5011, 0.2484,  ..., 0.4801, 0.4605, 0.4327],\n           [0.2512, 0.3817, 0.3524,  ..., 0.3117, 0.4683, 0.4699]]]],\n\n\n\n        [[[[0.2890, 0.3013, 0.3300,  ..., 0.2460, 0.2419, 0.2553],\n           [0.2435, 0.3617, 0.3648,  ..., 0.3865, 0.2573, 0.3603],\n           [0.3236, 0.5344, 0.2386,  ..., 0.2473, 0.3440, 0.3804],\n           ...,\n           [0.3268, 0.2418, 0.1593,  ..., 0.2864, 0.2250, 0.3507],\n           [0.2378, 0.3930, 0.3514,  ..., 0.3728, 0.3558, 0.3400],\n           [0.3311, 0.3538, 0.3140,  ..., 0.3481, 0.2920, 0.3340]],\n\n          [[0.3065, 0.3629, 0.3371,  ..., 0.4387, 0.4037, 0.3271],\n           [0.3424, 0.3227, 0.4648,  ..., 0.4433, 0.3656, 0.4105],\n           [0.2954, 0.2916, 0.3598,  ..., 0.2965, 0.4533, 0.4140],\n           ...,\n           [0.3082, 0.4645, 0.4363,  ..., 0.2521, 0.3472, 0.3110],\n           [0.4467, 0.4197, 0.5219,  ..., 0.4137, 0.3820, 0.4581],\n           [0.3525, 0.3002, 0.2806,  ..., 0.2856, 0.3281, 0.2743]],\n\n          [[0.2975, 0.2569, 0.3468,  ..., 0.3313, 0.3691, 0.3325],\n           [0.3581, 0.3311, 0.5382,  ..., 0.4708, 0.4407, 0.3338],\n           [0.2111, 0.6787, 0.5081,  ..., 0.3656, 0.5558, 0.5096],\n           ...,\n           [0.2668, 0.3671, 0.2230,  ..., 0.2508, 0.5473, 0.4114],\n           [0.2988, 0.2309, 0.2686,  ..., 0.4142, 0.2660, 0.3254],\n           [0.3652, 0.3687, 0.3048,  ..., 0.3235, 0.2329, 0.3906]],\n\n          ...,\n\n          [[0.3794, 0.3825, 0.4172,  ..., 0.3527, 0.3942, 0.3826],\n           [0.3619, 0.3277, 0.5382,  ..., 0.3841, 0.4475, 0.5234],\n           [0.2404, 0.3791, 0.3764,  ..., 0.3655, 0.4178, 0.4588],\n           ...,\n           [0.3104, 0.2837, 0.4714,  ..., 0.5109, 0.3439, 0.4096],\n           [0.2793, 0.3921, 0.3206,  ..., 0.2706, 0.3803, 0.3618],\n           [0.2785, 0.3746, 0.3213,  ..., 0.3104, 0.2499, 0.2444]],\n\n          [[0.2304, 0.3268, 0.3593,  ..., 0.3804, 0.3278, 0.3329],\n           [0.3646, 0.4696, 0.3872,  ..., 0.3656, 0.3087, 0.3669],\n           [0.2800, 0.3037, 0.2996,  ..., 0.3603, 0.4603, 0.4356],\n           ...,\n           [0.3689, 0.3005, 0.2941,  ..., 0.2310, 0.4845, 0.3773],\n           [0.1993, 0.3256, 0.4562,  ..., 0.3451, 0.3120, 0.2637],\n           [0.3109, 0.4608, 0.3478,  ..., 0.2884, 0.2908, 0.3226]],\n\n          [[0.3605, 0.4309, 0.2956,  ..., 0.3362, 0.3047, 0.3294],\n           [0.3663, 0.3435, 0.2813,  ..., 0.3857, 0.3588, 0.3251],\n           [0.3164, 0.4126, 0.3606,  ..., 0.4106, 0.3519, 0.2896],\n           ...,\n           [0.2487, 0.3071, 0.3859,  ..., 0.3636, 0.3199, 0.4185],\n           [0.3090, 0.2641, 0.3424,  ..., 0.3278, 0.2392, 0.3720],\n           [0.3885, 0.3323, 0.4176,  ..., 0.2999, 0.2774, 0.2946]]],\n\n\n         [[[0.4051, 0.2992, 0.2956,  ..., 0.3858, 0.3527, 0.3543],\n           [0.4230, 0.3355, 0.4043,  ..., 0.2912, 0.4378, 0.2399],\n           [0.3089, 0.2472, 0.2628,  ..., 0.2741, 0.4298, 0.2895],\n           ...,\n           [0.3201, 0.2972, 0.4372,  ..., 0.4917, 0.4519, 0.2814],\n           [0.2826, 0.3179, 0.4108,  ..., 0.3226, 0.3566, 0.3033],\n           [0.3284, 0.3661, 0.3117,  ..., 0.3060, 0.4383, 0.2119]],\n\n          [[0.3568, 0.2697, 0.2307,  ..., 0.2744, 0.2731, 0.2303],\n           [0.3160, 0.3000, 0.2346,  ..., 0.2485, 0.2861, 0.2101],\n           [0.4071, 0.4159, 0.3034,  ..., 0.2043, 0.3432, 0.2325],\n           ...,\n           [0.4029, 0.2350, 0.2896,  ..., 0.1515, 0.3278, 0.2043],\n           [0.3274, 0.2441, 0.3332,  ..., 0.1898, 0.2211, 0.2751],\n           [0.4353, 0.3151, 0.3445,  ..., 0.3877, 0.2081, 0.2470]],\n\n          [[0.2773, 0.2885, 0.3093,  ..., 0.2554, 0.2139, 0.2903],\n           [0.3076, 0.1855, 0.2663,  ..., 0.1539, 0.2235, 0.2853],\n           [0.4901, 0.1293, 0.2758,  ..., 0.2270, 0.2650, 0.2339],\n           ...,\n           [0.3629, 0.2830, 0.2644,  ..., 0.1963, 0.2081, 0.1672],\n           [0.3640, 0.3737, 0.2904,  ..., 0.3067, 0.4143, 0.3049],\n           [0.3682, 0.3410, 0.3480,  ..., 0.4218, 0.3066, 0.3334]],\n\n          ...,\n\n          [[0.2673, 0.3727, 0.2678,  ..., 0.2559, 0.2346, 0.2757],\n           [0.2663, 0.3790, 0.2157,  ..., 0.3771, 0.2979, 0.2062],\n           [0.3530, 0.3027, 0.2701,  ..., 0.3806, 0.3113, 0.1966],\n           ...,\n           [0.3079, 0.3218, 0.3226,  ..., 0.2280, 0.3659, 0.1270],\n           [0.4436, 0.3462, 0.4492,  ..., 0.4532, 0.2947, 0.3173],\n           [0.3768, 0.2633, 0.2780,  ..., 0.3172, 0.2767, 0.3002]],\n\n          [[0.3524, 0.3086, 0.2300,  ..., 0.2128, 0.3379, 0.2288],\n           [0.3368, 0.2702, 0.3484,  ..., 0.3085, 0.2961, 0.2677],\n           [0.3951, 0.3313, 0.2630,  ..., 0.2092, 0.3399, 0.1709],\n           ...,\n           [0.3435, 0.3224, 0.2464,  ..., 0.4048, 0.2920, 0.1928],\n           [0.4054, 0.2964, 0.3038,  ..., 0.3888, 0.3087, 0.2626],\n           [0.3462, 0.3099, 0.3709,  ..., 0.3552, 0.3350, 0.2778]],\n\n          [[0.2455, 0.2323, 0.2325,  ..., 0.2115, 0.3197, 0.2420],\n           [0.3094, 0.2080, 0.3096,  ..., 0.2472, 0.2532, 0.2265],\n           [0.3244, 0.2828, 0.2073,  ..., 0.1574, 0.3699, 0.1903],\n           ...,\n           [0.3172, 0.2223, 0.2622,  ..., 0.2543, 0.3046, 0.2077],\n           [0.3035, 0.3297, 0.3424,  ..., 0.1812, 0.2873, 0.2160],\n           [0.3338, 0.2339, 0.2629,  ..., 0.2316, 0.2371, 0.3051]]],\n\n\n         [[[0.3059, 0.3996, 0.3744,  ..., 0.3682, 0.4053, 0.3904],\n           [0.3335, 0.3028, 0.2308,  ..., 0.3222, 0.3049, 0.3998],\n           [0.3675, 0.2184, 0.4985,  ..., 0.4786, 0.2262, 0.3301],\n           ...,\n           [0.3532, 0.4611, 0.4035,  ..., 0.2219, 0.3231, 0.3679],\n           [0.4796, 0.2891, 0.2378,  ..., 0.3046, 0.2876, 0.3568],\n           [0.3405, 0.2801, 0.3744,  ..., 0.3458, 0.2696, 0.4542]],\n\n          [[0.3367, 0.3674, 0.4321,  ..., 0.2869, 0.3232, 0.4426],\n           [0.3416, 0.3773, 0.3006,  ..., 0.3082, 0.3484, 0.3793],\n           [0.2975, 0.2925, 0.3369,  ..., 0.4991, 0.2036, 0.3535],\n           ...,\n           [0.2890, 0.3005, 0.2741,  ..., 0.5964, 0.3250, 0.4847],\n           [0.2259, 0.3362, 0.1449,  ..., 0.3965, 0.3969, 0.2668],\n           [0.2122, 0.3847, 0.3749,  ..., 0.3267, 0.4638, 0.4787]],\n\n          [[0.4253, 0.4546, 0.3439,  ..., 0.4133, 0.4170, 0.3773],\n           [0.3343, 0.4833, 0.1955,  ..., 0.3753, 0.3358, 0.3809],\n           [0.2988, 0.1919, 0.2161,  ..., 0.4074, 0.1792, 0.2566],\n           ...,\n           [0.3704, 0.3499, 0.5126,  ..., 0.5529, 0.2446, 0.4215],\n           [0.3372, 0.3954, 0.4410,  ..., 0.2790, 0.3197, 0.3698],\n           [0.2666, 0.2903, 0.3473,  ..., 0.2546, 0.4605, 0.2760]],\n\n          ...,\n\n          [[0.3532, 0.2448, 0.3150,  ..., 0.3914, 0.3712, 0.3417],\n           [0.3717, 0.2933, 0.2461,  ..., 0.2388, 0.2546, 0.2704],\n           [0.4066, 0.3182, 0.3535,  ..., 0.2538, 0.2709, 0.3446],\n           ...,\n           [0.3817, 0.3946, 0.2061,  ..., 0.2610, 0.2902, 0.4633],\n           [0.2771, 0.2618, 0.2302,  ..., 0.2763, 0.3250, 0.3209],\n           [0.3447, 0.3621, 0.4007,  ..., 0.3725, 0.4734, 0.4554]],\n\n          [[0.4172, 0.3647, 0.4107,  ..., 0.4068, 0.3343, 0.4383],\n           [0.2986, 0.2602, 0.2644,  ..., 0.3259, 0.3953, 0.3654],\n           [0.3250, 0.3650, 0.4374,  ..., 0.4305, 0.1998, 0.3935],\n           ...,\n           [0.2876, 0.3771, 0.4595,  ..., 0.3642, 0.2235, 0.4299],\n           [0.3953, 0.3780, 0.2400,  ..., 0.2662, 0.3793, 0.4737],\n           [0.3429, 0.2293, 0.2814,  ..., 0.3564, 0.3742, 0.3997]],\n\n          [[0.3939, 0.3368, 0.4719,  ..., 0.4524, 0.3755, 0.4286],\n           [0.3244, 0.4485, 0.4090,  ..., 0.3671, 0.3880, 0.4485],\n           [0.3592, 0.3046, 0.4321,  ..., 0.4320, 0.2781, 0.5201],\n           ...,\n           [0.4341, 0.4706, 0.3519,  ..., 0.3820, 0.3755, 0.3738],\n           [0.3876, 0.4062, 0.3152,  ..., 0.4909, 0.4735, 0.4121],\n           [0.2777, 0.4338, 0.3195,  ..., 0.4685, 0.4855, 0.4004]]]]],\n       device='cuda:0', grad_fn=<SoftmaxBackward>)\n"
    }
   ],
   "source": [
    "net_shape = [8, 1, 16, 48, 48]\n",
    "device = torch.device(\"cuda:0\" if torch.cuda.is_available() else \"cpu\")\n",
    "\n",
    "unet = UNet3D(net_shape, 3)\n",
    "unet.to(device)\n",
    "print(device)\n",
    "\n",
    "dummy_img = torch.rand(net_shape).to(device)\n",
    "\n",
    "output = unet(dummy_img)\n",
    "print('output:', output)"
   ]
  },
  {
   "cell_type": "markdown",
   "metadata": {},
   "source": [
    "### Trainer"
   ]
  },
  {
   "cell_type": "code",
   "execution_count": 3,
   "metadata": {},
   "outputs": [],
   "source": [
    "import pytorch_lightning as pl\n",
    "\n",
    "from pytorch_lightning.logging import MLFlowLogger, TensorBoardLogger"
   ]
  }
 ],
 "metadata": {
  "file_extension": ".py",
  "kernelspec": {
   "display_name": "Python 3.6.9 64-bit ('pytorch_segment': pipenv)",
   "language": "python",
   "name": "python36964bitpytorchsegmentpipenvb29c6f85899f44a598ccdde8b03eaec2"
  },
  "language_info": {
   "codemirror_mode": {
    "name": "ipython",
    "version": 3
   },
   "file_extension": ".py",
   "mimetype": "text/x-python",
   "name": "python",
   "nbconvert_exporter": "python",
   "pygments_lexer": "ipython3",
   "version": "3.6.9-final"
  },
  "mimetype": "text/x-python",
  "name": "python",
  "npconvert_exporter": "python",
  "pygments_lexer": "ipython3",
  "version": 3
 },
 "nbformat": 4,
 "nbformat_minor": 2
}
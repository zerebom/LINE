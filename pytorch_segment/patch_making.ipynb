{
 "nbformat": 4,
 "nbformat_minor": 2,
 "metadata": {
  "language_info": {
   "name": "python",
   "codemirror_mode": {
    "name": "ipython",
    "version": 3
   },
   "version": "3.6.9-final"
  },
  "orig_nbformat": 2,
  "file_extension": ".py",
  "mimetype": "text/x-python",
  "name": "python",
  "npconvert_exporter": "python",
  "pygments_lexer": "ipython3",
  "version": 3,
  "kernelspec": {
   "name": "python36964bitd659ecacd9144e8aa4286e8db0c97f93",
   "display_name": "Python 3.6.9 64-bit"
  }
 },
 "cells": [
  {
   "cell_type": "markdown",
   "metadata": {},
   "source": [
    "## patchづくり&csvづくり\n",
    "\n",
    "きれいなディレクトリ構造で、明瞭に条件分岐できるようにデータを作成する  \n",
    "パッチとcsvをセットで保存しておいて、一般性や再現性を保ったパッチを作っていきたい  \n",
    "\n",
    "手順としては  \n",
    "1. patch用の関数を通す   \n",
    "2. csvが作られる  \n",
    "3. 条件分岐が行われる  \n",
    "\n",
    "条件\n",
    "- 対象のnii.gzの名前が変わっても大丈夫\n",
    "- 患者単位のstatics.csvがあってもいいかも"
   ]
  },
  {
   "cell_type": "code",
   "execution_count": 1,
   "metadata": {},
   "outputs": [],
   "source": [
    "import math\n",
    "import SimpleITK as sitk\n",
    "import numpy as np\n",
    "import pathlib\n",
    "from tqdm import tqdm\n",
    "import numpy.ma as ma\n",
    "import glob\n",
    "from pathlib import Path\n"
   ]
  },
  {
   "cell_type": "code",
   "execution_count": 4,
   "metadata": {},
   "outputs": [],
   "source": [
    "impath = '/home/higuchi/ssd/kits19/data/case_00000/imaging.nii.gz'\n",
    "mapath = '/home/higuchi/ssd/kits19/data/case_00000/segmentation.nii.gz'\n",
    "im = sitk.ReadImage(impath)\n",
    "ma = sitk.ReadImage(mapath)\n",
    "im_arr = sitk.GetArrayFromImage(im)\n",
    "ma_arr = sitk.GetArrayFromImage(ma)\n",
    "\n"
   ]
  },
  {
   "cell_type": "code",
   "execution_count": 7,
   "metadata": {},
   "outputs": [
    {
     "data": {
      "text/plain": "(101, 602, 602)"
     },
     "execution_count": 7,
     "metadata": {},
     "output_type": "execute_result"
    }
   ],
   "source": [
    "read_range = im.GetSize()\n",
    "read_range"
   ]
  },
  {
   "cell_type": "code",
   "execution_count": 10,
   "metadata": {},
   "outputs": [],
   "source": [
    "def getListCropPoint(read_range, pad_range):\n",
    "    # read_range：パッチの始点の範囲\n",
    "    # pad_range：始点の基準間隔\n",
    "    equal = math.ceil(read_range / pad_range)\n",
    "    crop_point = np.round(np.linspace(0, read_range, equal + 1)).astype(int)\n",
    "\n",
    "    return crop_point\n",
    "\n",
    "size = [16,48,48]\n",
    "overlap = [2,3,3]\n",
    "crop_points = [[getListCropPoint(read_range[i] - size[i],size[i]//overlap[i])] for i in range(3)]\n"
   ]
  },
  {
   "cell_type": "code",
   "execution_count": null,
   "metadata": {},
   "outputs": [],
   "source": [
    "def make_patch(x, y, z,size,save_dir):\n",
    "    #　ラベルはネットワークの出力パッチサイズの大きさでクロップする\n",
    "    crop_label = label_array[x:x + size[0], y:y + size[1], z:z + size[2]]\n",
    "    \n",
    "    # パッチ作成の条件\n",
    "    if (crop_label != 0).sum() <= np.prod(size) * 0.001 or\\\n",
    "            (crop_label != 0).sum() >= np.prod(size) * 0.8:\n",
    "        return\n",
    "\n",
    "    # TODO:時相が複数のときに対応させる\n",
    "    crop_vol = image_array[x:x + size[0], y:y + size[1], z:z + size[2]]\n",
    "\n",
    "    patch_name = f'{str(x).zfill(3)}_{str(y).zfill(3)}_{str(z).zfill(3)}.npy'\n",
    "    save_vol_path = save_directory /'image'/ patch_name\n",
    "    save_seg_path = save_directory /'lable'/ patch_name\n",
    "\n",
    "    saveNPY(crop_label, str(save_seg_path))\n",
    "    saveNPY(crop_vol, str(save_vol_path), True)\n"
   ]
  },
  {
   "cell_type": "code",
   "execution_count": null,
   "metadata": {},
   "outputs": [],
   "source": [
    "for z in tqdm(crop_points[0]):\n",
    "    for y in crop_points[1]:\n",
    "        for x in crop_points[2]:\n",
    "            patch_methos(z,y,x)"
   ]
  },
  {
   "cell_type": "code",
   "execution_count": null,
   "metadata": {},
   "outputs": [],
   "source": [
    "patch_name = 'normal'\n",
    "file_name_dict = {\n",
    "    'image':['imaging.nii.gz'],\n",
    "    'mask':['segmentation.nii.gz']\n",
    "}\n",
    "\n",
    "def make_patch(niigz_path,save_dir,size=[48,48,16],)"
   ]
  }
 ]
}
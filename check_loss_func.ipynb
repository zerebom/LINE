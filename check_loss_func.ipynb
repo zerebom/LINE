{
 "cells": [
  {
   "cell_type": "code",
   "execution_count": 1,
   "metadata": {},
   "outputs": [],
   "source": [
    "import tensorflow as tf\n",
    "def penalty_categorical(y_true,y_pred):\n",
    "    '''\n",
    "    クロスエントロピーと重み付け\n",
    "    input : 各ピクセル・チャネル毎の予測値(H*W*C)\n",
    "    return: 各ピクセル毎の損失(H*W)\n",
    "    '''\n",
    "    K = tf.keras.backend\n",
    "    \n",
    "    array_tf = tf.convert_to_tensor(y_true,dtype=tf.float32)\n",
    "    pred_tf = tf.convert_to_tensor(y_pred,dtype=tf.float32)\n",
    "    epsilon = K.epsilon()\n",
    "    \n",
    "    #すべての次元の合計\n",
    "    result = tf.reduce_sum(array_tf,[0,1,2,3])\n",
    "    result_pow = tf.math.log(result)\n",
    "    \n",
    "    #logとって重み付け\n",
    "    weight_y = result_pow / tf.reduce_sum(result_pow)\n",
    "    k_dice = kidney_dice(y_true, y_pred)\n",
    "    c_dice = cancer_dice(y_true, y_pred)\n",
    "    \n",
    "    #reduce_sumでチャンネル方向に\n",
    "    return (-1) * tf.reduce_sum( 1 / (weight_y + epsilon) * array_tf * tf.math.log(pred_tf + epsilon),axis=-1) \\\n",
    "       + (1 - k_dice) + (1 - c_dice)\n"
   ]
  },
  {
   "cell_type": "code",
   "execution_count": 4,
   "metadata": {},
   "outputs": [
    {
     "data": {
      "text/plain": [
       "<tf.Tensor: shape=(), dtype=int32, numpy=6>"
      ]
     },
     "execution_count": 4,
     "metadata": {},
     "output_type": "execute_result"
    }
   ],
   "source": [
    "x = tf.constant([[1, 1, 1], [1, 1, 1]])\n",
    "tf.reduce_sum(x,[0,1]) "
   ]
  }
 ],
 "metadata": {
  "kernelspec": {
   "display_name": "Python 3",
   "language": "python",
   "name": "python3"
  },
  "language_info": {
   "codemirror_mode": {
    "name": "ipython",
    "version": 3
   },
   "file_extension": ".py",
   "mimetype": "text/x-python",
   "name": "python",
   "nbconvert_exporter": "python",
   "pygments_lexer": "ipython3",
   "version": "3.6.9"
  }
 },
 "nbformat": 4,
 "nbformat_minor": 2
}
